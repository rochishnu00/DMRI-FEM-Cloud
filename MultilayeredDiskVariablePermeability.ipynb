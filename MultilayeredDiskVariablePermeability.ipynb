{
  "nbformat": 4,
  "nbformat_minor": 0,
  "metadata": {
    "colab": {
      "name": "MultilayeredDiskVariablePermeability.ipynb",
      "provenance": [],
      "collapsed_sections": [
        "vS_YdSbqFOln",
        "9SJXe6I5JUwF",
        "6l4kvMZQb3z6",
        "r6GW2fwLE042"
      ],
      "include_colab_link": true
    },
    "kernelspec": {
      "name": "python3",
      "display_name": "Python 3"
    },
    "accelerator": "GPU"
  },
  "cells": [
    {
      "cell_type": "markdown",
      "metadata": {
        "id": "view-in-github",
        "colab_type": "text"
      },
      "source": [
        "<a href=\"https://colab.research.google.com/github/van-dang/DMRI-FEM-Cloud/blob/master/MultilayeredDiskVariablePermeability.ipynb\" target=\"_parent\"><img src=\"https://colab.research.google.com/assets/colab-badge.svg\" alt=\"Open In Colab\"/></a>"
      ]
    },
    {
      "cell_type": "markdown",
      "metadata": {
        "id": "vS_YdSbqFOln",
        "colab_type": "text"
      },
      "source": [
        "# About the code"
      ]
    },
    {
      "cell_type": "code",
      "metadata": {
        "id": "CiQ9r51xKgWh",
        "colab_type": "code",
        "colab": {}
      },
      "source": [
        "# This program solves the Bloch-Torrey equation applied to computational diffusion MRI using \n",
        "# the finite element method coupled with the theta-method for the spatial discretization.\n",
        "\n",
        "# The scope of usage: \n",
        "# (1) Single domains, Multilayered structures, manifolds\n",
        "# (2) Membrane permeability for internal interfaces\n",
        "#     Artificial permeability at the external interfaces\n",
        "# (3) pure homogeneous Neumann BCs, (4) pseudo-periodic BCs\n",
        "\n",
        "# Copyright (C) 2019 Van-Dang Nguyen (vdnguyen@kth.se)\n",
        "\n",
        "# This file is part of DOLFIN.\n",
        "\n",
        "# DOLFIN is free software: you can redistribute it and/or modify\n",
        "# it under the terms of the GNU Lesser General Public License as published by\n",
        "# the Free Software Foundation, either version 3 of the License, or\n",
        "# (at your option) any later version.\n",
        "\n",
        "# DOLFIN is distributed in the hope that it will be useful,\n",
        "# but WITHOUT ANY WARRANTY; without even the implied warranty of\n",
        "# MERCHANTABILITY or FITNESS FOR A PARTICULAR PURPOSE. See the\n",
        "# GNU Lesser General Public License for more details.\n",
        "\n",
        "# You should have received a copy of the GNU Lesser General Public License\n",
        "# along with DOLFIN. If not, see <http://www.gnu.org/licenses/>.\n",
        "\n",
        "# First added:  2017-10-10\n",
        "# Last changed: 2019-04-25\n",
        "\n",
        "# This demo is maintained by Van-Dang Nguyen\n",
        "# Please report possible problems to vdnguyen@kth.se"
      ],
      "execution_count": null,
      "outputs": []
    },
    {
      "cell_type": "markdown",
      "metadata": {
        "id": "9SJXe6I5JUwF",
        "colab_type": "text"
      },
      "source": [
        "# Setting a working environment with FEniCS"
      ]
    },
    {
      "cell_type": "code",
      "metadata": {
        "id": "4jWzVxURFVLj",
        "colab_type": "code",
        "colab": {
          "base_uri": "https://localhost:8080/",
          "height": 51
        },
        "outputId": "3b7c5d2c-cf61-437f-ef8a-e70069a2fbd8"
      },
      "source": [
        "try:\n",
        "    from google.colab import files\n",
        "except:\n",
        "    print(\"This is not google.colab\")\n",
        "    \n",
        "import platform, sys\n",
        "python_version=platform.python_version()\n",
        "from distutils.version import LooseVersion, StrictVersion\n",
        "\n",
        "if ( LooseVersion(python_version) < LooseVersion(\"3.0.0\")):\n",
        "    print(\"Python3 is needed!\");\n",
        "    print(\"How to fix: Runtime/Change_runtime_type/Python 3\");\n",
        "    sys.exit()\n",
        "    \n",
        "try:\n",
        "    from dolfin import *; from mshr import *\n",
        "except ImportError as e:\n",
        "    !apt-get install -y -qq software-properties-common python-software-properties module-init-tools\n",
        "    !add-apt-repository -y ppa:fenics-packages/fenics\n",
        "    !apt-get update -qq\n",
        "    !apt install -y --no-install-recommends fenics\n",
        "    from dolfin import *; from mshr import *\n",
        "\n",
        "gmsh_dir=!which gmsh\n",
        "if len(gmsh_dir)==0:\n",
        "  !apt-get install gmsh\n",
        "    \n",
        "import matplotlib.pyplot as plt;\n",
        "from IPython.display import clear_output, display; import time; import dolfin.common.plotting as fenicsplot \n",
        "import time\n",
        "\n",
        "import os, sys, shutil\n",
        "\n",
        "clear_output()\n",
        "\n",
        "dolfin_version = dolfin.__version__\n",
        "print ('dolfin version:', dolfin_version)\n",
        "\n",
        "# Disable warnings\n",
        "import logging\n",
        "logging.basicConfig(level=logging.DEBUG)\n",
        "logger = logging.getLogger(\"rothemain.rothe_utils\")\n",
        "logging.getLogger('UFL').setLevel(logging.WARNING)\n",
        "logging.getLogger('FFC').setLevel(logging.WARNING)\n",
        "\n",
        "import warnings\n",
        "warnings.filterwarnings(\"ignore\")\n"
      ],
      "execution_count": 1,
      "outputs": [
        {
          "output_type": "stream",
          "text": [
            "DEBUG:matplotlib.pyplot:Loaded backend module://ipykernel.pylab.backend_inline version unknown.\n"
          ],
          "name": "stderr"
        },
        {
          "output_type": "stream",
          "text": [
            "dolfin version: 2019.1.0\n"
          ],
          "name": "stdout"
        }
      ]
    },
    {
      "cell_type": "markdown",
      "metadata": {
        "id": "6l4kvMZQb3z6",
        "colab_type": "text"
      },
      "source": [
        "#Load pre-defined functions"
      ]
    },
    {
      "cell_type": "code",
      "metadata": {
        "id": "x3L26nGPb7kZ",
        "colab_type": "code",
        "colab": {
          "base_uri": "https://localhost:8080/",
          "height": 34
        },
        "outputId": "a11b458b-40da-4d65-99bb-8311f72ded34"
      },
      "source": [
        "import sympy as sp  \n",
        "exists = os.path.isfile('DmriFemLib.py')\n",
        "isupdate = False\n",
        "if (exists==False or isupdate==True):\n",
        "    if isupdate==True:\n",
        "        !rm DmriFemLib.py\n",
        "    print(\"Load pre-defined functions from GitHub\")\n",
        "    !wget --quiet https://raw.githubusercontent.com/van-dang/DMRI-FEM-Cloud/master/DmriFemLib.py\n",
        "from DmriFemLib import *\n",
        "      "
      ],
      "execution_count": 2,
      "outputs": [
        {
          "output_type": "stream",
          "text": [
            "Load pre-defined functions from GitHub\n"
          ],
          "name": "stdout"
        }
      ]
    },
    {
      "cell_type": "markdown",
      "metadata": {
        "id": "r6GW2fwLE042",
        "colab_type": "text"
      },
      "source": [
        "# Working on the mesh and submesh"
      ]
    },
    {
      "cell_type": "code",
      "metadata": {
        "id": "ksCOgH6e6d8e",
        "colab_type": "code",
        "colab": {
          "base_uri": "https://localhost:8080/",
          "height": 1000
        },
        "outputId": "0238bc75-0eaf-470f-a5ea-62509ed48a2e"
      },
      "source": [
        "geo_choice = 2\n",
        "################################################################################\n",
        "############## Create multilayered domains using gmsh ##########################\n",
        "if geo_choice == 2:\n",
        "    mesh_name = \"multi_layered_disk\"\n",
        "\n",
        "    is_geo_file_exist = os.path.isfile(mesh_name+'.geo')  \n",
        "    if is_geo_file_exist==False:\n",
        "        !wget --quiet https://raw.githubusercontent.com/van-dang/DMRI-FEM-Cloud/mesh/$mesh_name''.geo\n",
        "\n",
        "    # Modify .geo file from 4 layers to 3 layers      \n",
        "    !sed -i 's/5, 7.5, 10, 13/5, 7.5, 10/g' $mesh_name''.geo\n",
        "      \n",
        "    # Create mesh from geo file by gmsh\n",
        "    !gmsh -3 $mesh_name''.geo -o $mesh_name''.msh\n",
        "    \n",
        "    # Convert .msh to .xml using dolfin-convert\n",
        "    !dolfin-convert $mesh_name''.msh $mesh_name''.xml\n",
        "    clear_output()\n",
        "\n",
        "    mymesh = Mesh(mesh_name+\".xml\");  \n",
        "\n",
        "    GetPartitionMarkers(mesh_name+\".msh\", \"pmk_\"+mesh_name+\".xml\")\n",
        "\n",
        "    partition_marker = MeshFunction(\"size_t\", mymesh, mymesh.topology().dim())\n",
        "\n",
        "    File(\"pmk_\"+mesh_name+\".xml\")>>partition_marker\n",
        "\n",
        "    phase, partion_list = CreatePhaseFunc(mymesh, [], [], partition_marker)    \n",
        "\n",
        "    D_array = [3e-3, 1e-3, 3e-3];\n",
        "    D_dictionary = dict(zip(partion_list, D_array))\n",
        "    print(\"partition list:\",partion_list)\n",
        "    \n",
        "################################################################################\n",
        "############## Save, Plot phase functions and submeshes to verify ##############\n",
        "File(\"Phase.pvd\")<<phase\n",
        "print(\"Partition markers:\", partion_list)\n",
        "if mymesh.topology().dim()==2:\n",
        "    plt.subplot(1, 2, 2); plot(partition_marker, cmap=\"coolwarm\",  title=\"Partition marker\");"
      ],
      "execution_count": 3,
      "outputs": [
        {
          "output_type": "stream",
          "text": [
            "Extracting cell markers from: multi_layered_disk.msh ...\n",
            "Extracted successfully on: 908 elements\n",
            "Partition marker list: ['0', '1', '2']\n",
            "Wrote to: pmk_multi_layered_disk.xml\n"
          ],
          "name": "stdout"
        },
        {
          "output_type": "stream",
          "text": [
            "DEBUG:matplotlib.font_manager:findfont: Matching sans\\-serif:style=normal:variant=normal:weight=normal:stretch=normal:size=12.0.\n",
            "DEBUG:matplotlib.font_manager:findfont: score(<Font 'DejaVu Sans Mono' (DejaVuSansMono.ttf) normal normal 400 normal>) = 10.05\n",
            "DEBUG:matplotlib.font_manager:findfont: score(<Font 'DejaVu Serif' (DejaVuSerif-Italic.ttf) italic normal 400 normal>) = 11.05\n",
            "DEBUG:matplotlib.font_manager:findfont: score(<Font 'DejaVu Sans' (DejaVuSans-Bold.ttf) normal normal 700 normal>) = 0.33499999999999996\n",
            "DEBUG:matplotlib.font_manager:findfont: score(<Font 'DejaVu Serif Display' (DejaVuSerifDisplay.ttf) normal normal 400 normal>) = 10.05\n",
            "DEBUG:matplotlib.font_manager:findfont: score(<Font 'STIXGeneral' (STIXGeneralBolIta.ttf) italic normal 700 normal>) = 11.335\n",
            "DEBUG:matplotlib.font_manager:findfont: score(<Font 'DejaVu Serif' (DejaVuSerif.ttf) normal normal 400 normal>) = 10.05\n",
            "DEBUG:matplotlib.font_manager:findfont: score(<Font 'DejaVu Sans' (DejaVuSans-Oblique.ttf) oblique normal 400 normal>) = 1.05\n",
            "DEBUG:matplotlib.font_manager:findfont: score(<Font 'STIXGeneral' (STIXGeneral.ttf) normal normal regular normal>) = 10.05\n",
            "DEBUG:matplotlib.font_manager:findfont: score(<Font 'STIXNonUnicode' (STIXNonUni.ttf) normal normal regular normal>) = 10.05\n",
            "DEBUG:matplotlib.font_manager:findfont: score(<Font 'STIXNonUnicode' (STIXNonUniIta.ttf) italic normal 400 normal>) = 11.05\n",
            "DEBUG:matplotlib.font_manager:findfont: score(<Font 'DejaVu Serif' (DejaVuSerif-BoldItalic.ttf) italic normal 700 normal>) = 11.335\n",
            "DEBUG:matplotlib.font_manager:findfont: score(<Font 'DejaVu Serif' (DejaVuSerif-Bold.ttf) normal normal 700 normal>) = 10.335\n",
            "DEBUG:matplotlib.font_manager:findfont: score(<Font 'STIXSizeTwoSym' (STIXSizTwoSymReg.ttf) normal normal regular normal>) = 10.05\n",
            "DEBUG:matplotlib.font_manager:findfont: score(<Font 'DejaVu Sans Mono' (DejaVuSansMono-BoldOblique.ttf) oblique normal 700 normal>) = 11.335\n",
            "DEBUG:matplotlib.font_manager:findfont: score(<Font 'cmex10' (cmex10.ttf) normal normal 400 normal>) = 10.05\n",
            "DEBUG:matplotlib.font_manager:findfont: score(<Font 'cmmi10' (cmmi10.ttf) normal normal 400 normal>) = 10.05\n",
            "DEBUG:matplotlib.font_manager:findfont: score(<Font 'STIXNonUnicode' (STIXNonUniBolIta.ttf) italic normal 700 normal>) = 11.335\n",
            "DEBUG:matplotlib.font_manager:findfont: score(<Font 'STIXGeneral' (STIXGeneralBol.ttf) normal normal 700 normal>) = 10.335\n",
            "DEBUG:matplotlib.font_manager:findfont: score(<Font 'STIXSizeThreeSym' (STIXSizThreeSymReg.ttf) normal normal regular normal>) = 10.05\n",
            "DEBUG:matplotlib.font_manager:findfont: score(<Font 'STIXSizeFourSym' (STIXSizFourSymBol.ttf) normal normal 700 normal>) = 10.335\n",
            "DEBUG:matplotlib.font_manager:findfont: score(<Font 'STIXSizeFourSym' (STIXSizFourSymReg.ttf) normal normal regular normal>) = 10.05\n",
            "DEBUG:matplotlib.font_manager:findfont: score(<Font 'DejaVu Sans' (DejaVuSans-BoldOblique.ttf) oblique normal 700 normal>) = 1.335\n",
            "DEBUG:matplotlib.font_manager:findfont: score(<Font 'DejaVu Sans' (DejaVuSans.ttf) normal normal 400 normal>) = 0.05\n",
            "DEBUG:matplotlib.font_manager:findfont: score(<Font 'STIXSizeTwoSym' (STIXSizTwoSymBol.ttf) normal normal 700 normal>) = 10.335\n",
            "DEBUG:matplotlib.font_manager:findfont: score(<Font 'cmsy10' (cmsy10.ttf) normal normal 400 normal>) = 10.05\n",
            "DEBUG:matplotlib.font_manager:findfont: score(<Font 'DejaVu Sans Mono' (DejaVuSansMono-Bold.ttf) normal normal 700 normal>) = 10.335\n",
            "DEBUG:matplotlib.font_manager:findfont: score(<Font 'cmr10' (cmr10.ttf) normal normal 400 normal>) = 10.05\n",
            "DEBUG:matplotlib.font_manager:findfont: score(<Font 'STIXNonUnicode' (STIXNonUniBol.ttf) normal normal 700 normal>) = 10.335\n",
            "DEBUG:matplotlib.font_manager:findfont: score(<Font 'STIXSizeFiveSym' (STIXSizFiveSymReg.ttf) normal normal regular normal>) = 10.05\n",
            "DEBUG:matplotlib.font_manager:findfont: score(<Font 'STIXSizeThreeSym' (STIXSizThreeSymBol.ttf) normal normal 700 normal>) = 10.335\n",
            "DEBUG:matplotlib.font_manager:findfont: score(<Font 'STIXSizeOneSym' (STIXSizOneSymReg.ttf) normal normal regular normal>) = 10.05\n",
            "DEBUG:matplotlib.font_manager:findfont: score(<Font 'STIXGeneral' (STIXGeneralItalic.ttf) italic normal 400 normal>) = 11.05\n",
            "DEBUG:matplotlib.font_manager:findfont: score(<Font 'cmtt10' (cmtt10.ttf) normal normal 400 normal>) = 10.05\n",
            "DEBUG:matplotlib.font_manager:findfont: score(<Font 'STIXSizeOneSym' (STIXSizOneSymBol.ttf) normal normal 700 normal>) = 10.335\n",
            "DEBUG:matplotlib.font_manager:findfont: score(<Font 'DejaVu Sans Display' (DejaVuSansDisplay.ttf) normal normal 400 normal>) = 10.05\n",
            "DEBUG:matplotlib.font_manager:findfont: score(<Font 'cmb10' (cmb10.ttf) normal normal 400 normal>) = 10.05\n",
            "DEBUG:matplotlib.font_manager:findfont: score(<Font 'cmss10' (cmss10.ttf) normal normal 400 normal>) = 10.05\n",
            "DEBUG:matplotlib.font_manager:findfont: score(<Font 'DejaVu Sans Mono' (DejaVuSansMono-Oblique.ttf) oblique normal 400 normal>) = 11.05\n",
            "DEBUG:matplotlib.font_manager:findfont: score(<Font 'Liberation Serif' (LiberationSerif-Regular.ttf) normal normal 400 normal>) = 10.05\n",
            "DEBUG:matplotlib.font_manager:findfont: score(<Font 'Humor Sans' (Humor-Sans.ttf) normal normal 400 normal>) = 10.05\n",
            "DEBUG:matplotlib.font_manager:findfont: score(<Font 'Liberation Serif' (LiberationSerif-Italic.ttf) italic normal 400 normal>) = 11.05\n",
            "DEBUG:matplotlib.font_manager:findfont: score(<Font 'Liberation Mono' (LiberationMono-Bold.ttf) normal normal 700 normal>) = 10.335\n",
            "DEBUG:matplotlib.font_manager:findfont: score(<Font 'Liberation Sans' (LiberationSans-BoldItalic.ttf) italic normal 700 normal>) = 11.335\n",
            "DEBUG:matplotlib.font_manager:findfont: score(<Font 'Liberation Mono' (LiberationMono-Italic.ttf) italic normal 400 normal>) = 11.05\n",
            "DEBUG:matplotlib.font_manager:findfont: score(<Font 'Liberation Serif' (LiberationSerif-Bold.ttf) normal normal 700 normal>) = 10.335\n",
            "DEBUG:matplotlib.font_manager:findfont: score(<Font 'Liberation Sans Narrow' (LiberationSansNarrow-BoldItalic.ttf) italic normal 700 condensed>) = 11.535\n",
            "DEBUG:matplotlib.font_manager:findfont: score(<Font 'Liberation Sans Narrow' (LiberationSansNarrow-Bold.ttf) normal normal 700 condensed>) = 10.535\n",
            "DEBUG:matplotlib.font_manager:findfont: score(<Font 'Liberation Sans' (LiberationSans-Regular.ttf) normal normal 400 normal>) = 10.05\n",
            "DEBUG:matplotlib.font_manager:findfont: score(<Font 'Liberation Sans' (LiberationSans-Italic.ttf) italic normal 400 normal>) = 11.05\n",
            "DEBUG:matplotlib.font_manager:findfont: score(<Font 'Liberation Mono' (LiberationMono-BoldItalic.ttf) italic normal 700 normal>) = 11.335\n",
            "DEBUG:matplotlib.font_manager:findfont: score(<Font 'Liberation Sans Narrow' (LiberationSansNarrow-Italic.ttf) italic normal 400 condensed>) = 11.25\n",
            "DEBUG:matplotlib.font_manager:findfont: score(<Font 'Liberation Sans Narrow' (LiberationSansNarrow-Regular.ttf) normal normal 400 condensed>) = 10.25\n",
            "DEBUG:matplotlib.font_manager:findfont: score(<Font 'Liberation Serif' (LiberationSerif-BoldItalic.ttf) italic normal 700 normal>) = 11.335\n",
            "DEBUG:matplotlib.font_manager:findfont: score(<Font 'Liberation Sans' (LiberationSans-Bold.ttf) normal normal 700 normal>) = 10.335\n",
            "DEBUG:matplotlib.font_manager:findfont: score(<Font 'Liberation Mono' (LiberationMono-Regular.ttf) normal normal 400 normal>) = 10.05\n",
            "DEBUG:matplotlib.font_manager:findfont: Matching sans\\-serif:style=normal:variant=normal:weight=normal:stretch=normal:size=12.0 to DejaVu Sans ('/usr/local/lib/python3.6/dist-packages/matplotlib/mpl-data/fonts/ttf/DejaVuSans.ttf') with score of 0.050000.\n",
            "DEBUG:matplotlib.font_manager:findfont: Matching sans\\-serif:style=normal:variant=normal:weight=normal:stretch=normal:size=10.0.\n",
            "DEBUG:matplotlib.font_manager:findfont: score(<Font 'DejaVu Sans Mono' (DejaVuSansMono.ttf) normal normal 400 normal>) = 10.05\n",
            "DEBUG:matplotlib.font_manager:findfont: score(<Font 'DejaVu Serif' (DejaVuSerif-Italic.ttf) italic normal 400 normal>) = 11.05\n",
            "DEBUG:matplotlib.font_manager:findfont: score(<Font 'DejaVu Sans' (DejaVuSans-Bold.ttf) normal normal 700 normal>) = 0.33499999999999996\n",
            "DEBUG:matplotlib.font_manager:findfont: score(<Font 'DejaVu Serif Display' (DejaVuSerifDisplay.ttf) normal normal 400 normal>) = 10.05\n",
            "DEBUG:matplotlib.font_manager:findfont: score(<Font 'STIXGeneral' (STIXGeneralBolIta.ttf) italic normal 700 normal>) = 11.335\n",
            "DEBUG:matplotlib.font_manager:findfont: score(<Font 'DejaVu Serif' (DejaVuSerif.ttf) normal normal 400 normal>) = 10.05\n",
            "DEBUG:matplotlib.font_manager:findfont: score(<Font 'DejaVu Sans' (DejaVuSans-Oblique.ttf) oblique normal 400 normal>) = 1.05\n",
            "DEBUG:matplotlib.font_manager:findfont: score(<Font 'STIXGeneral' (STIXGeneral.ttf) normal normal regular normal>) = 10.05\n",
            "DEBUG:matplotlib.font_manager:findfont: score(<Font 'STIXNonUnicode' (STIXNonUni.ttf) normal normal regular normal>) = 10.05\n",
            "DEBUG:matplotlib.font_manager:findfont: score(<Font 'STIXNonUnicode' (STIXNonUniIta.ttf) italic normal 400 normal>) = 11.05\n",
            "DEBUG:matplotlib.font_manager:findfont: score(<Font 'DejaVu Serif' (DejaVuSerif-BoldItalic.ttf) italic normal 700 normal>) = 11.335\n",
            "DEBUG:matplotlib.font_manager:findfont: score(<Font 'DejaVu Serif' (DejaVuSerif-Bold.ttf) normal normal 700 normal>) = 10.335\n",
            "DEBUG:matplotlib.font_manager:findfont: score(<Font 'STIXSizeTwoSym' (STIXSizTwoSymReg.ttf) normal normal regular normal>) = 10.05\n",
            "DEBUG:matplotlib.font_manager:findfont: score(<Font 'DejaVu Sans Mono' (DejaVuSansMono-BoldOblique.ttf) oblique normal 700 normal>) = 11.335\n",
            "DEBUG:matplotlib.font_manager:findfont: score(<Font 'cmex10' (cmex10.ttf) normal normal 400 normal>) = 10.05\n",
            "DEBUG:matplotlib.font_manager:findfont: score(<Font 'cmmi10' (cmmi10.ttf) normal normal 400 normal>) = 10.05\n",
            "DEBUG:matplotlib.font_manager:findfont: score(<Font 'STIXNonUnicode' (STIXNonUniBolIta.ttf) italic normal 700 normal>) = 11.335\n",
            "DEBUG:matplotlib.font_manager:findfont: score(<Font 'STIXGeneral' (STIXGeneralBol.ttf) normal normal 700 normal>) = 10.335\n",
            "DEBUG:matplotlib.font_manager:findfont: score(<Font 'STIXSizeThreeSym' (STIXSizThreeSymReg.ttf) normal normal regular normal>) = 10.05\n",
            "DEBUG:matplotlib.font_manager:findfont: score(<Font 'STIXSizeFourSym' (STIXSizFourSymBol.ttf) normal normal 700 normal>) = 10.335\n",
            "DEBUG:matplotlib.font_manager:findfont: score(<Font 'STIXSizeFourSym' (STIXSizFourSymReg.ttf) normal normal regular normal>) = 10.05\n",
            "DEBUG:matplotlib.font_manager:findfont: score(<Font 'DejaVu Sans' (DejaVuSans-BoldOblique.ttf) oblique normal 700 normal>) = 1.335\n",
            "DEBUG:matplotlib.font_manager:findfont: score(<Font 'DejaVu Sans' (DejaVuSans.ttf) normal normal 400 normal>) = 0.05\n",
            "DEBUG:matplotlib.font_manager:findfont: score(<Font 'STIXSizeTwoSym' (STIXSizTwoSymBol.ttf) normal normal 700 normal>) = 10.335\n",
            "DEBUG:matplotlib.font_manager:findfont: score(<Font 'cmsy10' (cmsy10.ttf) normal normal 400 normal>) = 10.05\n",
            "DEBUG:matplotlib.font_manager:findfont: score(<Font 'DejaVu Sans Mono' (DejaVuSansMono-Bold.ttf) normal normal 700 normal>) = 10.335\n",
            "DEBUG:matplotlib.font_manager:findfont: score(<Font 'cmr10' (cmr10.ttf) normal normal 400 normal>) = 10.05\n",
            "DEBUG:matplotlib.font_manager:findfont: score(<Font 'STIXNonUnicode' (STIXNonUniBol.ttf) normal normal 700 normal>) = 10.335\n",
            "DEBUG:matplotlib.font_manager:findfont: score(<Font 'STIXSizeFiveSym' (STIXSizFiveSymReg.ttf) normal normal regular normal>) = 10.05\n",
            "DEBUG:matplotlib.font_manager:findfont: score(<Font 'STIXSizeThreeSym' (STIXSizThreeSymBol.ttf) normal normal 700 normal>) = 10.335\n",
            "DEBUG:matplotlib.font_manager:findfont: score(<Font 'STIXSizeOneSym' (STIXSizOneSymReg.ttf) normal normal regular normal>) = 10.05\n",
            "DEBUG:matplotlib.font_manager:findfont: score(<Font 'STIXGeneral' (STIXGeneralItalic.ttf) italic normal 400 normal>) = 11.05\n",
            "DEBUG:matplotlib.font_manager:findfont: score(<Font 'cmtt10' (cmtt10.ttf) normal normal 400 normal>) = 10.05\n",
            "DEBUG:matplotlib.font_manager:findfont: score(<Font 'STIXSizeOneSym' (STIXSizOneSymBol.ttf) normal normal 700 normal>) = 10.335\n",
            "DEBUG:matplotlib.font_manager:findfont: score(<Font 'DejaVu Sans Display' (DejaVuSansDisplay.ttf) normal normal 400 normal>) = 10.05\n",
            "DEBUG:matplotlib.font_manager:findfont: score(<Font 'cmb10' (cmb10.ttf) normal normal 400 normal>) = 10.05\n",
            "DEBUG:matplotlib.font_manager:findfont: score(<Font 'cmss10' (cmss10.ttf) normal normal 400 normal>) = 10.05\n",
            "DEBUG:matplotlib.font_manager:findfont: score(<Font 'DejaVu Sans Mono' (DejaVuSansMono-Oblique.ttf) oblique normal 400 normal>) = 11.05\n",
            "DEBUG:matplotlib.font_manager:findfont: score(<Font 'Liberation Serif' (LiberationSerif-Regular.ttf) normal normal 400 normal>) = 10.05\n",
            "DEBUG:matplotlib.font_manager:findfont: score(<Font 'Humor Sans' (Humor-Sans.ttf) normal normal 400 normal>) = 10.05\n",
            "DEBUG:matplotlib.font_manager:findfont: score(<Font 'Liberation Serif' (LiberationSerif-Italic.ttf) italic normal 400 normal>) = 11.05\n",
            "DEBUG:matplotlib.font_manager:findfont: score(<Font 'Liberation Mono' (LiberationMono-Bold.ttf) normal normal 700 normal>) = 10.335\n",
            "DEBUG:matplotlib.font_manager:findfont: score(<Font 'Liberation Sans' (LiberationSans-BoldItalic.ttf) italic normal 700 normal>) = 11.335\n",
            "DEBUG:matplotlib.font_manager:findfont: score(<Font 'Liberation Mono' (LiberationMono-Italic.ttf) italic normal 400 normal>) = 11.05\n",
            "DEBUG:matplotlib.font_manager:findfont: score(<Font 'Liberation Serif' (LiberationSerif-Bold.ttf) normal normal 700 normal>) = 10.335\n"
          ],
          "name": "stderr"
        },
        {
          "output_type": "stream",
          "text": [
            "partition list: [0, 1, 2]\n",
            "Partition markers: [0, 1, 2]\n"
          ],
          "name": "stdout"
        },
        {
          "output_type": "stream",
          "text": [
            "DEBUG:matplotlib.font_manager:findfont: score(<Font 'Liberation Sans Narrow' (LiberationSansNarrow-BoldItalic.ttf) italic normal 700 condensed>) = 11.535\n",
            "DEBUG:matplotlib.font_manager:findfont: score(<Font 'Liberation Sans Narrow' (LiberationSansNarrow-Bold.ttf) normal normal 700 condensed>) = 10.535\n",
            "DEBUG:matplotlib.font_manager:findfont: score(<Font 'Liberation Sans' (LiberationSans-Regular.ttf) normal normal 400 normal>) = 10.05\n",
            "DEBUG:matplotlib.font_manager:findfont: score(<Font 'Liberation Sans' (LiberationSans-Italic.ttf) italic normal 400 normal>) = 11.05\n",
            "DEBUG:matplotlib.font_manager:findfont: score(<Font 'Liberation Mono' (LiberationMono-BoldItalic.ttf) italic normal 700 normal>) = 11.335\n",
            "DEBUG:matplotlib.font_manager:findfont: score(<Font 'Liberation Sans Narrow' (LiberationSansNarrow-Italic.ttf) italic normal 400 condensed>) = 11.25\n",
            "DEBUG:matplotlib.font_manager:findfont: score(<Font 'Liberation Sans Narrow' (LiberationSansNarrow-Regular.ttf) normal normal 400 condensed>) = 10.25\n",
            "DEBUG:matplotlib.font_manager:findfont: score(<Font 'Liberation Serif' (LiberationSerif-BoldItalic.ttf) italic normal 700 normal>) = 11.335\n",
            "DEBUG:matplotlib.font_manager:findfont: score(<Font 'Liberation Sans' (LiberationSans-Bold.ttf) normal normal 700 normal>) = 10.335\n",
            "DEBUG:matplotlib.font_manager:findfont: score(<Font 'Liberation Mono' (LiberationMono-Regular.ttf) normal normal 400 normal>) = 10.05\n",
            "DEBUG:matplotlib.font_manager:findfont: Matching sans\\-serif:style=normal:variant=normal:weight=normal:stretch=normal:size=10.0 to DejaVu Sans ('/usr/local/lib/python3.6/dist-packages/matplotlib/mpl-data/fonts/ttf/DejaVuSans.ttf') with score of 0.050000.\n"
          ],
          "name": "stderr"
        },
        {
          "output_type": "display_data",
          "data": {
            "image/png": "[encoded data removed]",
            "text/plain": [
              "<Figure size 432x288 with 1 Axes>"
            ]
          },
          "metadata": {
            "tags": [],
            "needs_background": "light"
          }
        }
      ]
    },
    {
      "cell_type": "markdown",
      "metadata": {
        "id": "aFEvif9PF2yH",
        "colab_type": "text"
      },
      "source": [
        "# Solve the Bloch-Torrey equation"
      ]
    },
    {
      "cell_type": "code",
      "metadata": {
        "id": "DYZ5SWlw69tQ",
        "colab_type": "code",
        "colab": {
          "base_uri": "https://localhost:8080/",
          "height": 1000
        },
        "outputId": "79c7e2d4-4e4a-4cd5-96fe-c9ebeca79e48"
      },
      "source": [
        "mri_simu = MRI_simulation()\n",
        "mri_para = MRI_parameters()\n",
        "\n",
        "bvalues = [10000]\n",
        "\n",
        "for bvalue in bvalues:\n",
        "    #################################################################################\n",
        "    #########################  Pre-defined parameters ###############################\n",
        "    mri_para.bvalue = bvalue                             # bvalue\n",
        "    mri_para.delta, mri_para.Delta = 40000, 40000# 10600, 43100        # time sequence\n",
        "    mri_para.set_gradient_dir(mymesh, 1, 0, 0)           # gradient direction\n",
        "    mri_para.T = mri_para.Delta+mri_para.delta\n",
        "    mri_para.fs_sym = sp.Piecewise(\n",
        "                    (  1., mri_para.s < mri_para.delta ),\n",
        "                    (  0., mri_para.s < mri_para.Delta ),\n",
        "                    ( -1., mri_para.s < mri_para.T ),\n",
        "                    (  0., True )  \n",
        "                ) \n",
        "\n",
        "    mri_para.Apply()\n",
        "    mri_simu.k = 100;                                    # time-step size\n",
        "    mri_simu.nskip = 5;                                  # frequency to print ouputs\n",
        "\n",
        "    mydomain = MyDomain(mymesh, mri_para)\n",
        "    mydomain.phase = phase\n",
        "    mydomain.PeriodicDir = [0, 0, 0];            # Direction of the periodicity\n",
        "    mydomain.IsDomainPeriodic = False            # Confirm if the mesh if periodic\n",
        "    mydomain.IsDomainMultiple = True             # Confirm if the mesh is multiple\n",
        "\n",
        "    ###################### Set up permeability #####################################\n",
        "    kappa_tensor = [[0,0,0],[0,0,0],[0,0,0]] \n",
        "    kappa_tensor[0][1] = kappa_tensor[1][0] = 1e-5\n",
        "    kappa_tensor[1][2] = kappa_tensor[2][1] = 1e-5\n",
        "\n",
        "    CR = FunctionSpace(mymesh, \"CR\",1)\n",
        "    CR_dofmap = CR.dofmap() \n",
        "    kappa = Function(CR)\n",
        "    topo_dim = mymesh.topology().dim()\n",
        "    mymesh.init(topo_dim-1,topo_dim) # Build connectivity between facets and cells\n",
        "    facet_f = MeshFunction(\"double\", mymesh, topo_dim - 1)\n",
        "    for facet in facets(mymesh): \n",
        "      adjacent_cells = facet.entities(topo_dim) \n",
        "      if len(adjacent_cells)>1:\n",
        "        domain_marker1 = partition_marker[adjacent_cells[0]]                                                  \n",
        "        domain_marker2 = partition_marker[adjacent_cells[1]] \n",
        "        if domain_marker1!=domain_marker2:\n",
        "          facet_f[facet] = kappa_tensor[domain_marker1][domain_marker2]\n",
        "    for cell in cells(mymesh):                                                         \n",
        "      dofs = CR_dofmap.cell_dofs(cell.index())                                          \n",
        "      for i, facet in enumerate(facets(cell)):                                       \n",
        "        kappa.vector()[dofs[i]] = facet_f[facet]    \n",
        "    mydomain.kappa = kappa                     # Permeability\n",
        "    ################################################################################\n",
        "\n",
        "    mydomain.Apply()   # Call Apply before setting the diffusion tensor\n",
        "    ################################################################################\n",
        "    # Impose the diffusion coefficient\n",
        "    dofmap_DG = mydomain.V_DG.dofmap()\n",
        "    d00 = Function(mydomain.V_DG); d01 = Function(mydomain.V_DG); d02 = Function(mydomain.V_DG)\n",
        "    d10 = Function(mydomain.V_DG); d11 = Function(mydomain.V_DG); d12 = Function(mydomain.V_DG)\n",
        "    d20 = Function(mydomain.V_DG); d21 = Function(mydomain.V_DG); d22 = Function(mydomain.V_DG)\n",
        "\n",
        "    for cell in cells(mymesh):\n",
        "        p = cell.midpoint() # the coordinate of the cell center.\n",
        "        cmk = partition_marker[cell.index()]\n",
        "        cell_dof = dofmap_DG.cell_dofs(cell.index())\n",
        "        d00.vector()[cell_dof] = D_dictionary[cmk]; \n",
        "        d11.vector()[cell_dof] = D_dictionary[cmk]; \n",
        "        d22.vector()[cell_dof] = D_dictionary[cmk];\n",
        "\n",
        "    mydomain.ImposeDiffusionTensor(d00, d01, d02, d10, d11, d12, d20, d21, d22)\n",
        "    #################################################################################\n",
        "    #################################################################################\n",
        "\n",
        "    # linsolver = PETScLUSolver(\"mumps\")\n",
        "    linsolver = KrylovSolver(\"bicgstab\")\n",
        "    linsolver.parameters[\"absolute_tolerance\"] = 1e-9\n",
        "    linsolver.parameters[\"relative_tolerance\"] = 1e-8\n",
        "    linsolver.parameters[\"maximum_iterations\"] = 10000\n",
        "\n",
        "    mri_simu.solve(mydomain, mri_para, linsolver)\n",
        "\n",
        "    ctext = ''; # text to comment in the log file.\n",
        "    PostProcessing(mydomain, mri_para, mri_simu, plt, ctext)\n"
      ],
      "execution_count": 5,
      "outputs": [
        {
          "output_type": "stream",
          "text": [
            "Domain size: xmin=-10.000000, ymin=-10.000000, zmin=0.000000, xmax=10.000000, ymax=10.000000, zmax=0.000000\n",
            "Function Space for Two-compartment Domains has 4 components\n",
            "(ur0, ui0, ur1, ur1): r-real, i-imaginary\n",
            "Initialize a standard function space.\n",
            "Impose Diffusion Tensor ...\n",
            "t:   0.00  T: 80000.00 dt: 100.0 qvalue: 1.530931e-05 Completed 0.00%\n",
            "t: 500.00  T: 80000.00 dt: 100.0 qvalue: 1.530931e-05 Completed 0.62%\n",
            "t: 1000.00  T: 80000.00 dt: 100.0 qvalue: 1.530931e-05 Completed 1.25%\n",
            "t: 1500.00  T: 80000.00 dt: 100.0 qvalue: 1.530931e-05 Completed 1.87%\n",
            "t: 2000.00  T: 80000.00 dt: 100.0 qvalue: 1.530931e-05 Completed 2.50%\n",
            "t: 2500.00  T: 80000.00 dt: 100.0 qvalue: 1.530931e-05 Completed 3.12%\n",
            "t: 3000.00  T: 80000.00 dt: 100.0 qvalue: 1.530931e-05 Completed 3.75%\n",
            "t: 3500.00  T: 80000.00 dt: 100.0 qvalue: 1.530931e-05 Completed 4.37%\n",
            "t: 4000.00  T: 80000.00 dt: 100.0 qvalue: 1.530931e-05 Completed 4.99%\n",
            "t: 4500.00  T: 80000.00 dt: 100.0 qvalue: 1.530931e-05 Completed 5.62%\n",
            "t: 5000.00  T: 80000.00 dt: 100.0 qvalue: 1.530931e-05 Completed 6.24%\n",
            "t: 5500.00  T: 80000.00 dt: 100.0 qvalue: 1.530931e-05 Completed 6.87%\n",
            "t: 6000.00  T: 80000.00 dt: 100.0 qvalue: 1.530931e-05 Completed 7.49%\n",
            "t: 6500.00  T: 80000.00 dt: 100.0 qvalue: 1.530931e-05 Completed 8.11%\n",
            "t: 7000.00  T: 80000.00 dt: 100.0 qvalue: 1.530931e-05 Completed 8.74%\n",
            "t: 7500.00  T: 80000.00 dt: 100.0 qvalue: 1.530931e-05 Completed 9.36%\n",
            "t: 8000.00  T: 80000.00 dt: 100.0 qvalue: 1.530931e-05 Completed 9.99%\n",
            "t: 8500.00  T: 80000.00 dt: 100.0 qvalue: 1.530931e-05 Completed 10.61%\n",
            "t: 9000.00  T: 80000.00 dt: 100.0 qvalue: 1.530931e-05 Completed 11.24%\n",
            "t: 9500.00  T: 80000.00 dt: 100.0 qvalue: 1.530931e-05 Completed 11.86%\n",
            "t: 10000.00  T: 80000.00 dt: 100.0 qvalue: 1.530931e-05 Completed 12.48%\n",
            "t: 10500.00  T: 80000.00 dt: 100.0 qvalue: 1.530931e-05 Completed 13.11%\n",
            "t: 11000.00  T: 80000.00 dt: 100.0 qvalue: 1.530931e-05 Completed 13.73%\n",
            "t: 11500.00  T: 80000.00 dt: 100.0 qvalue: 1.530931e-05 Completed 14.36%\n",
            "t: 12000.00  T: 80000.00 dt: 100.0 qvalue: 1.530931e-05 Completed 14.98%\n",
            "t: 12500.00  T: 80000.00 dt: 100.0 qvalue: 1.530931e-05 Completed 15.61%\n",
            "t: 13000.00  T: 80000.00 dt: 100.0 qvalue: 1.530931e-05 Completed 16.23%\n",
            "t: 13500.00  T: 80000.00 dt: 100.0 qvalue: 1.530931e-05 Completed 16.85%\n",
            "t: 14000.00  T: 80000.00 dt: 100.0 qvalue: 1.530931e-05 Completed 17.48%\n",
            "t: 14500.00  T: 80000.00 dt: 100.0 qvalue: 1.530931e-05 Completed 18.10%\n",
            "t: 15000.00  T: 80000.00 dt: 100.0 qvalue: 1.530931e-05 Completed 18.73%\n",
            "t: 15500.00  T: 80000.00 dt: 100.0 qvalue: 1.530931e-05 Completed 19.35%\n",
            "t: 16000.00  T: 80000.00 dt: 100.0 qvalue: 1.530931e-05 Completed 19.98%\n",
            "t: 16500.00  T: 80000.00 dt: 100.0 qvalue: 1.530931e-05 Completed 20.60%\n",
            "t: 17000.00  T: 80000.00 dt: 100.0 qvalue: 1.530931e-05 Completed 21.22%\n",
            "t: 17500.00  T: 80000.00 dt: 100.0 qvalue: 1.530931e-05 Completed 21.85%\n",
            "t: 18000.00  T: 80000.00 dt: 100.0 qvalue: 1.530931e-05 Completed 22.47%\n",
            "t: 18500.00  T: 80000.00 dt: 100.0 qvalue: 1.530931e-05 Completed 23.10%\n",
            "t: 19000.00  T: 80000.00 dt: 100.0 qvalue: 1.530931e-05 Completed 23.72%\n",
            "t: 19500.00  T: 80000.00 dt: 100.0 qvalue: 1.530931e-05 Completed 24.34%\n",
            "t: 20000.00  T: 80000.00 dt: 100.0 qvalue: 1.530931e-05 Completed 24.97%\n",
            "t: 20500.00  T: 80000.00 dt: 100.0 qvalue: 1.530931e-05 Completed 25.59%\n",
            "t: 21000.00  T: 80000.00 dt: 100.0 qvalue: 1.530931e-05 Completed 26.22%\n",
            "t: 21500.00  T: 80000.00 dt: 100.0 qvalue: 1.530931e-05 Completed 26.84%\n",
            "t: 22000.00  T: 80000.00 dt: 100.0 qvalue: 1.530931e-05 Completed 27.47%\n",
            "t: 22500.00  T: 80000.00 dt: 100.0 qvalue: 1.530931e-05 Completed 28.09%\n",
            "t: 23000.00  T: 80000.00 dt: 100.0 qvalue: 1.530931e-05 Completed 28.71%\n",
            "t: 23500.00  T: 80000.00 dt: 100.0 qvalue: 1.530931e-05 Completed 29.34%\n",
            "t: 24000.00  T: 80000.00 dt: 100.0 qvalue: 1.530931e-05 Completed 29.96%\n",
            "t: 24500.00  T: 80000.00 dt: 100.0 qvalue: 1.530931e-05 Completed 30.59%\n",
            "t: 25000.00  T: 80000.00 dt: 100.0 qvalue: 1.530931e-05 Completed 31.21%\n",
            "t: 25500.00  T: 80000.00 dt: 100.0 qvalue: 1.530931e-05 Completed 31.84%\n",
            "t: 26000.00  T: 80000.00 dt: 100.0 qvalue: 1.530931e-05 Completed 32.46%\n",
            "t: 26500.00  T: 80000.00 dt: 100.0 qvalue: 1.530931e-05 Completed 33.08%\n",
            "t: 27000.00  T: 80000.00 dt: 100.0 qvalue: 1.530931e-05 Completed 33.71%\n",
            "t: 27500.00  T: 80000.00 dt: 100.0 qvalue: 1.530931e-05 Completed 34.33%\n",
            "t: 28000.00  T: 80000.00 dt: 100.0 qvalue: 1.530931e-05 Completed 34.96%\n",
            "t: 28500.00  T: 80000.00 dt: 100.0 qvalue: 1.530931e-05 Completed 35.58%\n",
            "t: 29000.00  T: 80000.00 dt: 100.0 qvalue: 1.530931e-05 Completed 36.20%\n",
            "t: 29500.00  T: 80000.00 dt: 100.0 qvalue: 1.530931e-05 Completed 36.83%\n",
            "t: 30000.00  T: 80000.00 dt: 100.0 qvalue: 1.530931e-05 Completed 37.45%\n",
            "t: 30500.00  T: 80000.00 dt: 100.0 qvalue: 1.530931e-05 Completed 38.08%\n",
            "t: 31000.00  T: 80000.00 dt: 100.0 qvalue: 1.530931e-05 Completed 38.70%\n",
            "t: 31500.00  T: 80000.00 dt: 100.0 qvalue: 1.530931e-05 Completed 39.33%\n",
            "t: 32000.00  T: 80000.00 dt: 100.0 qvalue: 1.530931e-05 Completed 39.95%\n",
            "t: 32500.00  T: 80000.00 dt: 100.0 qvalue: 1.530931e-05 Completed 40.57%\n",
            "t: 33000.00  T: 80000.00 dt: 100.0 qvalue: 1.530931e-05 Completed 41.20%\n",
            "t: 33500.00  T: 80000.00 dt: 100.0 qvalue: 1.530931e-05 Completed 41.82%\n",
            "t: 34000.00  T: 80000.00 dt: 100.0 qvalue: 1.530931e-05 Completed 42.45%\n",
            "t: 34500.00  T: 80000.00 dt: 100.0 qvalue: 1.530931e-05 Completed 43.07%\n",
            "t: 35000.00  T: 80000.00 dt: 100.0 qvalue: 1.530931e-05 Completed 43.70%\n",
            "t: 35500.00  T: 80000.00 dt: 100.0 qvalue: 1.530931e-05 Completed 44.32%\n",
            "t: 36000.00  T: 80000.00 dt: 100.0 qvalue: 1.530931e-05 Completed 44.94%\n",
            "t: 36500.00  T: 80000.00 dt: 100.0 qvalue: 1.530931e-05 Completed 45.57%\n",
            "t: 37000.00  T: 80000.00 dt: 100.0 qvalue: 1.530931e-05 Completed 46.19%\n",
            "t: 37500.00  T: 80000.00 dt: 100.0 qvalue: 1.530931e-05 Completed 46.82%\n",
            "t: 38000.00  T: 80000.00 dt: 100.0 qvalue: 1.530931e-05 Completed 47.44%\n",
            "t: 38500.00  T: 80000.00 dt: 100.0 qvalue: 1.530931e-05 Completed 48.06%\n",
            "t: 39000.00  T: 80000.00 dt: 100.0 qvalue: 1.530931e-05 Completed 48.69%\n",
            "t: 39500.00  T: 80000.00 dt: 100.0 qvalue: 1.530931e-05 Completed 49.31%\n",
            "t: 40000.00  T: 80000.00 dt: 100.0 qvalue: 1.530931e-05 Completed 49.94%\n",
            "t: 40500.00  T: 80000.00 dt: 100.0 qvalue: 1.530931e-05 Completed 50.56%\n",
            "t: 41000.00  T: 80000.00 dt: 100.0 qvalue: 1.530931e-05 Completed 51.19%\n",
            "t: 41500.00  T: 80000.00 dt: 100.0 qvalue: 1.530931e-05 Completed 51.81%\n",
            "t: 42000.00  T: 80000.00 dt: 100.0 qvalue: 1.530931e-05 Completed 52.43%\n",
            "t: 42500.00  T: 80000.00 dt: 100.0 qvalue: 1.530931e-05 Completed 53.06%\n",
            "t: 43000.00  T: 80000.00 dt: 100.0 qvalue: 1.530931e-05 Completed 53.68%\n",
            "t: 43500.00  T: 80000.00 dt: 100.0 qvalue: 1.530931e-05 Completed 54.31%\n",
            "t: 44000.00  T: 80000.00 dt: 100.0 qvalue: 1.530931e-05 Completed 54.93%\n",
            "t: 44500.00  T: 80000.00 dt: 100.0 qvalue: 1.530931e-05 Completed 55.56%\n",
            "t: 45000.00  T: 80000.00 dt: 100.0 qvalue: 1.530931e-05 Completed 56.18%\n",
            "t: 45500.00  T: 80000.00 dt: 100.0 qvalue: 1.530931e-05 Completed 56.80%\n",
            "t: 46000.00  T: 80000.00 dt: 100.0 qvalue: 1.530931e-05 Completed 57.43%\n",
            "t: 46500.00  T: 80000.00 dt: 100.0 qvalue: 1.530931e-05 Completed 58.05%\n",
            "t: 47000.00  T: 80000.00 dt: 100.0 qvalue: 1.530931e-05 Completed 58.68%\n",
            "t: 47500.00  T: 80000.00 dt: 100.0 qvalue: 1.530931e-05 Completed 59.30%\n",
            "t: 48000.00  T: 80000.00 dt: 100.0 qvalue: 1.530931e-05 Completed 59.93%\n",
            "t: 48500.00  T: 80000.00 dt: 100.0 qvalue: 1.530931e-05 Completed 60.55%\n",
            "t: 49000.00  T: 80000.00 dt: 100.0 qvalue: 1.530931e-05 Completed 61.17%\n",
            "t: 49500.00  T: 80000.00 dt: 100.0 qvalue: 1.530931e-05 Completed 61.80%\n",
            "t: 50000.00  T: 80000.00 dt: 100.0 qvalue: 1.530931e-05 Completed 62.42%\n",
            "t: 50500.00  T: 80000.00 dt: 100.0 qvalue: 1.530931e-05 Completed 63.05%\n",
            "t: 51000.00  T: 80000.00 dt: 100.0 qvalue: 1.530931e-05 Completed 63.67%\n",
            "t: 51500.00  T: 80000.00 dt: 100.0 qvalue: 1.530931e-05 Completed 64.29%\n",
            "t: 52000.00  T: 80000.00 dt: 100.0 qvalue: 1.530931e-05 Completed 64.92%\n",
            "t: 52500.00  T: 80000.00 dt: 100.0 qvalue: 1.530931e-05 Completed 65.54%\n",
            "t: 53000.00  T: 80000.00 dt: 100.0 qvalue: 1.530931e-05 Completed 66.17%\n",
            "t: 53500.00  T: 80000.00 dt: 100.0 qvalue: 1.530931e-05 Completed 66.79%\n",
            "t: 54000.00  T: 80000.00 dt: 100.0 qvalue: 1.530931e-05 Completed 67.42%\n",
            "t: 54500.00  T: 80000.00 dt: 100.0 qvalue: 1.530931e-05 Completed 68.04%\n",
            "t: 55000.00  T: 80000.00 dt: 100.0 qvalue: 1.530931e-05 Completed 68.66%\n",
            "t: 55500.00  T: 80000.00 dt: 100.0 qvalue: 1.530931e-05 Completed 69.29%\n",
            "t: 56000.00  T: 80000.00 dt: 100.0 qvalue: 1.530931e-05 Completed 69.91%\n",
            "t: 56500.00  T: 80000.00 dt: 100.0 qvalue: 1.530931e-05 Completed 70.54%\n",
            "t: 57000.00  T: 80000.00 dt: 100.0 qvalue: 1.530931e-05 Completed 71.16%\n",
            "t: 57500.00  T: 80000.00 dt: 100.0 qvalue: 1.530931e-05 Completed 71.79%\n",
            "t: 58000.00  T: 80000.00 dt: 100.0 qvalue: 1.530931e-05 Completed 72.41%\n",
            "t: 58500.00  T: 80000.00 dt: 100.0 qvalue: 1.530931e-05 Completed 73.03%\n",
            "t: 59000.00  T: 80000.00 dt: 100.0 qvalue: 1.530931e-05 Completed 73.66%\n",
            "t: 59500.00  T: 80000.00 dt: 100.0 qvalue: 1.530931e-05 Completed 74.28%\n",
            "t: 60000.00  T: 80000.00 dt: 100.0 qvalue: 1.530931e-05 Completed 74.91%\n",
            "t: 60500.00  T: 80000.00 dt: 100.0 qvalue: 1.530931e-05 Completed 75.53%\n",
            "t: 61000.00  T: 80000.00 dt: 100.0 qvalue: 1.530931e-05 Completed 76.15%\n",
            "t: 61500.00  T: 80000.00 dt: 100.0 qvalue: 1.530931e-05 Completed 76.78%\n",
            "t: 62000.00  T: 80000.00 dt: 100.0 qvalue: 1.530931e-05 Completed 77.40%\n",
            "t: 62500.00  T: 80000.00 dt: 100.0 qvalue: 1.530931e-05 Completed 78.03%\n",
            "t: 63000.00  T: 80000.00 dt: 100.0 qvalue: 1.530931e-05 Completed 78.65%\n",
            "t: 63500.00  T: 80000.00 dt: 100.0 qvalue: 1.530931e-05 Completed 79.28%\n",
            "t: 64000.00  T: 80000.00 dt: 100.0 qvalue: 1.530931e-05 Completed 79.90%\n",
            "t: 64500.00  T: 80000.00 dt: 100.0 qvalue: 1.530931e-05 Completed 80.52%\n",
            "t: 65000.00  T: 80000.00 dt: 100.0 qvalue: 1.530931e-05 Completed 81.15%\n",
            "t: 65500.00  T: 80000.00 dt: 100.0 qvalue: 1.530931e-05 Completed 81.77%\n",
            "t: 66000.00  T: 80000.00 dt: 100.0 qvalue: 1.530931e-05 Completed 82.40%\n",
            "t: 66500.00  T: 80000.00 dt: 100.0 qvalue: 1.530931e-05 Completed 83.02%\n",
            "t: 67000.00  T: 80000.00 dt: 100.0 qvalue: 1.530931e-05 Completed 83.65%\n",
            "t: 67500.00  T: 80000.00 dt: 100.0 qvalue: 1.530931e-05 Completed 84.27%\n",
            "t: 68000.00  T: 80000.00 dt: 100.0 qvalue: 1.530931e-05 Completed 84.89%\n",
            "t: 68500.00  T: 80000.00 dt: 100.0 qvalue: 1.530931e-05 Completed 85.52%\n",
            "t: 69000.00  T: 80000.00 dt: 100.0 qvalue: 1.530931e-05 Completed 86.14%\n",
            "t: 69500.00  T: 80000.00 dt: 100.0 qvalue: 1.530931e-05 Completed 86.77%\n",
            "t: 70000.00  T: 80000.00 dt: 100.0 qvalue: 1.530931e-05 Completed 87.39%\n",
            "t: 70500.00  T: 80000.00 dt: 100.0 qvalue: 1.530931e-05 Completed 88.01%\n",
            "t: 71000.00  T: 80000.00 dt: 100.0 qvalue: 1.530931e-05 Completed 88.64%\n",
            "t: 71500.00  T: 80000.00 dt: 100.0 qvalue: 1.530931e-05 Completed 89.26%\n",
            "t: 72000.00  T: 80000.00 dt: 100.0 qvalue: 1.530931e-05 Completed 89.89%\n",
            "t: 72500.00  T: 80000.00 dt: 100.0 qvalue: 1.530931e-05 Completed 90.51%\n",
            "t: 73000.00  T: 80000.00 dt: 100.0 qvalue: 1.530931e-05 Completed 91.14%\n",
            "t: 73500.00  T: 80000.00 dt: 100.0 qvalue: 1.530931e-05 Completed 91.76%\n",
            "t: 74000.00  T: 80000.00 dt: 100.0 qvalue: 1.530931e-05 Completed 92.38%\n",
            "t: 74500.00  T: 80000.00 dt: 100.0 qvalue: 1.530931e-05 Completed 93.01%\n",
            "t: 75000.00  T: 80000.00 dt: 100.0 qvalue: 1.530931e-05 Completed 93.63%\n",
            "t: 75500.00  T: 80000.00 dt: 100.0 qvalue: 1.530931e-05 Completed 94.26%\n",
            "t: 76000.00  T: 80000.00 dt: 100.0 qvalue: 1.530931e-05 Completed 94.88%\n",
            "t: 76500.00  T: 80000.00 dt: 100.0 qvalue: 1.530931e-05 Completed 95.51%\n",
            "t: 77000.00  T: 80000.00 dt: 100.0 qvalue: 1.530931e-05 Completed 96.13%\n",
            "t: 77500.00  T: 80000.00 dt: 100.0 qvalue: 1.530931e-05 Completed 96.75%\n",
            "t: 78000.00  T: 80000.00 dt: 100.0 qvalue: 1.530931e-05 Completed 97.38%\n",
            "t: 78500.00  T: 80000.00 dt: 100.0 qvalue: 1.530931e-05 Completed 98.00%\n",
            "t: 79000.00  T: 80000.00 dt: 100.0 qvalue: 1.530931e-05 Completed 98.63%\n",
            "t: 79500.00  T: 80000.00 dt: 100.0 qvalue: 1.530931e-05 Completed 99.25%\n",
            "t: 80000.00  T: 80000.00 dt: 100.0 qvalue: 1.530931e-05 Completed 99.88%\n",
            "Successfully Completed! Elapsed time: 32.084352 seconds\n",
            "Signal on each compartment\n",
            "Sum initial0: 2.155e+02, Signal0: 5.938e+01\n",
            "Sum initial1: 9.817e+01, Signal1: 1.251e+01\n",
            "b: 10000.000, g: 0.057, q: 1.531e-05, Signal: 7.189e+01, Normalized signal: 2.292128e-01, dt: 100.000, hmin: 7.468e-01, hmax: 1.329e+00, whole_vol: 313.655, vol_of_interest: 313.655, elasped time 32.084 (s)\n",
            "\n",
            "save to log.txt\n"
          ],
          "name": "stdout"
        },
        {
          "output_type": "display_data",
          "data": {
            "image/png": "[encoded data removed]",
            "text/plain": [
              "<Figure size 432x288 with 1 Axes>"
            ]
          },
          "metadata": {
            "tags": [],
            "needs_background": "light"
          }
        },
        {
          "output_type": "display_data",
          "data": {
            "image/png": "[encoded data removed]",
            "text/plain": [
              "<Figure size 432x288 with 1 Axes>"
            ]
          },
          "metadata": {
            "tags": [],
            "needs_background": "light"
          }
        }
      ]
    },
    {
      "cell_type": "markdown",
      "metadata": {
        "id": "2PFBYd0QMw4U",
        "colab_type": "text"
      },
      "source": [
        "# Reference solutions"
      ]
    },
    {
      "cell_type": "code",
      "metadata": {
        "id": "3paAgRxbM3yW",
        "colab_type": "code",
        "colab": {}
      },
      "source": [
        "# The results were generated by the Matrix Formalism method propsed in\n",
        "# D.S. Grebenkov, Pulsed-gradient spin-echo monitoring of restricted \n",
        "# diffusion in multilayered structures, J. Magn. Reson., 205 (2) (2010)\n",
        "\n",
        "# # # # # # # # # # # # # # # # D.I.S.K # # # # # # # # # # # # # # # # # # # # #\n",
        "# # # # # # # # # R=[5,7.5,10], PGSE delta=Delta=40000 # # # # # # # # # # # # #\n",
        "# # # # # # # # # # mydomain.PeriodicDir = [0, 0, 0]; # # # # # # # # # # # # # # \n",
        "# D=[3 1 3]*1e-3 mm^2/s, kappa01=kappa10=1e-5m/s, kappa12=kappa21=5e-5m/s\n",
        "#  0.000e+00 # 1.000e+00\n",
        "#  1.000e+03 # 7.297e-01\n",
        "#  2.000e+03 # 5.525e-01\n",
        "#  3.000e+03 # 4.381e-01\n",
        "#  4.000e+03 # 3.649e-01\n",
        "#  5.000e+03 # 3.181e-01\n",
        "#  6.000e+03 # 2.877e-01\n",
        "#  7.000e+03 # 2.672e-01\n",
        "#  8.000e+03 # 2.522e-01\n",
        "#  9.000e+03 # 2.402e-01\n",
        "#  1.000e+04 # 2.297e-01\n",
        "# # # # # # # # # # # # # # # # # # # # # # # # # # # # # # # # # # # # # # # # #"
      ],
      "execution_count": null,
      "outputs": []
    }
  ]
}